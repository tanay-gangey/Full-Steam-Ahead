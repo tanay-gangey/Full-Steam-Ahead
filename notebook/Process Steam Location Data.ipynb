{
 "cells": [
  {
   "cell_type": "code",
   "execution_count": 9,
   "id": "b9b82ac7",
   "metadata": {},
   "outputs": [],
   "source": [
    "import pandas as pd\n",
    "import numpy as np\n",
    "\n",
    "from tqdm import tqdm\n",
    "\n",
    "tqdm.pandas()"
   ]
  },
  {
   "cell_type": "code",
   "execution_count": 5,
   "id": "4ae17bd6",
   "metadata": {},
   "outputs": [],
   "source": [
    "loc_df = pd.read_csv(\"../steam-data/profile_data_loc_190KUsers.csv\")"
   ]
  },
  {
   "cell_type": "code",
   "execution_count": 6,
   "id": "86e79e9b",
   "metadata": {},
   "outputs": [
    {
     "data": {
      "text/html": [
       "<div>\n",
       "<style scoped>\n",
       "    .dataframe tbody tr th:only-of-type {\n",
       "        vertical-align: middle;\n",
       "    }\n",
       "\n",
       "    .dataframe tbody tr th {\n",
       "        vertical-align: top;\n",
       "    }\n",
       "\n",
       "    .dataframe thead th {\n",
       "        text-align: right;\n",
       "    }\n",
       "</style>\n",
       "<table border=\"1\" class=\"dataframe\">\n",
       "  <thead>\n",
       "    <tr style=\"text-align: right;\">\n",
       "      <th></th>\n",
       "      <th>steamid</th>\n",
       "      <th>loccountrycode</th>\n",
       "      <th>locstatecode</th>\n",
       "      <th>loccityid</th>\n",
       "    </tr>\n",
       "  </thead>\n",
       "  <tbody>\n",
       "    <tr>\n",
       "      <th>6</th>\n",
       "      <td>76561197960269062</td>\n",
       "      <td>US</td>\n",
       "      <td>IL</td>\n",
       "      <td>1216.0</td>\n",
       "    </tr>\n",
       "    <tr>\n",
       "      <th>7</th>\n",
       "      <td>76561197960278992</td>\n",
       "      <td>US</td>\n",
       "      <td>NE</td>\n",
       "      <td>2364.0</td>\n",
       "    </tr>\n",
       "    <tr>\n",
       "      <th>12</th>\n",
       "      <td>76561197960274488</td>\n",
       "      <td>GB</td>\n",
       "      <td>Q3</td>\n",
       "      <td>17312.0</td>\n",
       "    </tr>\n",
       "    <tr>\n",
       "      <th>17</th>\n",
       "      <td>76561197960269273</td>\n",
       "      <td>US</td>\n",
       "      <td>PA</td>\n",
       "      <td>3299.0</td>\n",
       "    </tr>\n",
       "    <tr>\n",
       "      <th>18</th>\n",
       "      <td>76561197960273576</td>\n",
       "      <td>US</td>\n",
       "      <td>CA</td>\n",
       "      <td>511.0</td>\n",
       "    </tr>\n",
       "    <tr>\n",
       "      <th>...</th>\n",
       "      <td>...</td>\n",
       "      <td>...</td>\n",
       "      <td>...</td>\n",
       "      <td>...</td>\n",
       "    </tr>\n",
       "    <tr>\n",
       "      <th>194016</th>\n",
       "      <td>76561198105875459</td>\n",
       "      <td>ZA</td>\n",
       "      <td>03</td>\n",
       "      <td>46809.0</td>\n",
       "    </tr>\n",
       "    <tr>\n",
       "      <th>194022</th>\n",
       "      <td>76561198107454933</td>\n",
       "      <td>RU</td>\n",
       "      <td>13</td>\n",
       "      <td>41127.0</td>\n",
       "    </tr>\n",
       "    <tr>\n",
       "      <th>194025</th>\n",
       "      <td>76561198105316957</td>\n",
       "      <td>CN</td>\n",
       "      <td>02</td>\n",
       "      <td>10193.0</td>\n",
       "    </tr>\n",
       "    <tr>\n",
       "      <th>194037</th>\n",
       "      <td>76561198105723041</td>\n",
       "      <td>IR</td>\n",
       "      <td>15</td>\n",
       "      <td>24202.0</td>\n",
       "    </tr>\n",
       "    <tr>\n",
       "      <th>194038</th>\n",
       "      <td>76561198107159305</td>\n",
       "      <td>UA</td>\n",
       "      <td>15</td>\n",
       "      <td>45722.0</td>\n",
       "    </tr>\n",
       "  </tbody>\n",
       "</table>\n",
       "<p>42348 rows × 4 columns</p>\n",
       "</div>"
      ],
      "text/plain": [
       "                  steamid loccountrycode locstatecode  loccityid\n",
       "6       76561197960269062             US           IL     1216.0\n",
       "7       76561197960278992             US           NE     2364.0\n",
       "12      76561197960274488             GB           Q3    17312.0\n",
       "17      76561197960269273             US           PA     3299.0\n",
       "18      76561197960273576             US           CA      511.0\n",
       "...                   ...            ...          ...        ...\n",
       "194016  76561198105875459             ZA           03    46809.0\n",
       "194022  76561198107454933             RU           13    41127.0\n",
       "194025  76561198105316957             CN           02    10193.0\n",
       "194037  76561198105723041             IR           15    24202.0\n",
       "194038  76561198107159305             UA           15    45722.0\n",
       "\n",
       "[42348 rows x 4 columns]"
      ]
     },
     "execution_count": 6,
     "metadata": {},
     "output_type": "execute_result"
    }
   ],
   "source": [
    "loc_df.dropna()"
   ]
  },
  {
   "cell_type": "code",
   "execution_count": 12,
   "id": "53ba86f7",
   "metadata": {},
   "outputs": [],
   "source": [
    "import json\n",
    "\n",
    "# steam countries data from https://raw.githubusercontent.com/quer/steam-friends-countries/master/data/steam_countries.json\n",
    "with open(\"../steam-data/steam_countries.json\") as f:\n",
    "    country_data = json.load(f)"
   ]
  },
  {
   "cell_type": "code",
   "execution_count": 38,
   "id": "6c77aa16",
   "metadata": {},
   "outputs": [],
   "source": [
    "def populate_lat_lng(row):\n",
    "    country = row['loccountrycode']\n",
    "    state = row['locstatecode']\n",
    "    city = row['loccityid']\n",
    "    try:\n",
    "        if (pd.isnull(country)):\n",
    "            return row\n",
    "\n",
    "\n",
    "        if (pd.isnull(state)):\n",
    "            row['lat'] =  country_data[country]['coordinates']['lat']\n",
    "            row['lng'] =  country_data[country]['coordinates']['lng']\n",
    "\n",
    "        else:\n",
    "            state = str(state)\n",
    "            if (pd.isnull(city)):\n",
    "                row['lat'] =  country_data[country]['states'][state]['coordinates']['lat']\n",
    "                row['lng'] =  country_data[country]['states'][state]['coordinates']['lng']\n",
    "            else:\n",
    "                city = str(int(city))\n",
    "                row['lat'] =  country_data[country]['states'][state]['cities'][city]['coordinates']['lat']\n",
    "                row['lng'] =  country_data[country]['states'][state]['cities'][city]['coordinates']['lng']\n",
    "    except:\n",
    "        print(country, state, city)\n",
    "        \n",
    "    return row"
   ]
  },
  {
   "cell_type": "code",
   "execution_count": 47,
   "id": "e5c9ad12",
   "metadata": {},
   "outputs": [
    {
     "name": "stderr",
     "output_type": "stream",
     "text": [
      "  0%|▋                                                                                                                                                               | 890/194080 [00:00<01:41, 1912.75it/s]"
     ]
    },
    {
     "name": "stdout",
     "output_type": "stream",
     "text": [
      "FX nan nan\n"
     ]
    },
    {
     "name": "stderr",
     "output_type": "stream",
     "text": [
      "  1%|█▎                                                                                                                                                             | 1674/194080 [00:00<01:39, 1942.92it/s]"
     ]
    },
    {
     "name": "stdout",
     "output_type": "stream",
     "text": [
      "FX nan nan\n",
      "YU nan nan\n"
     ]
    },
    {
     "name": "stderr",
     "output_type": "stream",
     "text": [
      "  1%|█▋                                                                                                                                                             | 2073/194080 [00:01<01:41, 1890.47it/s]"
     ]
    },
    {
     "name": "stdout",
     "output_type": "stream",
     "text": [
      "FX nan nan\n",
      "AN nan nan\n",
      "FX nan nan\n"
     ]
    },
    {
     "name": "stderr",
     "output_type": "stream",
     "text": [
      "  1%|██▎                                                                                                                                                            | 2894/194080 [00:01<01:37, 1968.68it/s]"
     ]
    },
    {
     "name": "stdout",
     "output_type": "stream",
     "text": [
      "FX nan nan\n",
      "FX nan nan\n"
     ]
    },
    {
     "name": "stderr",
     "output_type": "stream",
     "text": [
      "  2%|██▉                                                                                                                                                            | 3548/194080 [00:01<01:36, 1980.14it/s]"
     ]
    },
    {
     "name": "stdout",
     "output_type": "stream",
     "text": [
      "FX nan nan\n",
      "FX nan nan\n"
     ]
    },
    {
     "name": "stderr",
     "output_type": "stream",
     "text": [
      "  2%|███▍                                                                                                                                                           | 4185/194080 [00:02<01:32, 2059.47it/s]"
     ]
    },
    {
     "name": "stdout",
     "output_type": "stream",
     "text": [
      "CK 00 9635\n",
      "FX nan nan\n"
     ]
    },
    {
     "name": "stderr",
     "output_type": "stream",
     "text": [
      "  2%|███▉                                                                                                                                                           | 4816/194080 [00:02<01:36, 1956.77it/s]"
     ]
    },
    {
     "name": "stdout",
     "output_type": "stream",
     "text": [
      "NZ 00 30830\n",
      "FX nan nan\n",
      "FX nan nan\n"
     ]
    },
    {
     "name": "stderr",
     "output_type": "stream",
     "text": [
      "  3%|████▍                                                                                                                                                          | 5412/194080 [00:02<01:36, 1948.58it/s]"
     ]
    },
    {
     "name": "stdout",
     "output_type": "stream",
     "text": [
      "PS nan nan\n",
      "FX nan nan\n"
     ]
    },
    {
     "name": "stderr",
     "output_type": "stream",
     "text": [
      "  3%|█████▎                                                                                                                                                         | 6447/194080 [00:03<01:29, 2088.93it/s]"
     ]
    },
    {
     "name": "stdout",
     "output_type": "stream",
     "text": [
      "PS nan nan\n"
     ]
    },
    {
     "name": "stderr",
     "output_type": "stream",
     "text": [
      "  4%|█████▊                                                                                                                                                         | 7083/194080 [00:03<01:33, 1997.68it/s]"
     ]
    },
    {
     "name": "stdout",
     "output_type": "stream",
     "text": [
      "NZ 00 31007\n",
      "FX nan nan\n"
     ]
    },
    {
     "name": "stderr",
     "output_type": "stream",
     "text": [
      "  4%|██████▏                                                                                                                                                        | 7506/194080 [00:03<01:31, 2028.62it/s]"
     ]
    },
    {
     "name": "stdout",
     "output_type": "stream",
     "text": [
      "FX nan nan\n"
     ]
    },
    {
     "name": "stderr",
     "output_type": "stream",
     "text": [
      "  4%|██████▊                                                                                                                                                        | 8344/194080 [00:04<01:35, 1948.28it/s]"
     ]
    },
    {
     "name": "stdout",
     "output_type": "stream",
     "text": [
      "FX nan nan\n",
      "FX nan nan\n",
      "FX nan nan\n",
      "FX nan nan\n",
      "FX nan nan\n"
     ]
    },
    {
     "name": "stderr",
     "output_type": "stream",
     "text": [
      "  5%|███████▎                                                                                                                                                       | 8936/194080 [00:04<01:36, 1927.12it/s]"
     ]
    },
    {
     "name": "stdout",
     "output_type": "stream",
     "text": [
      "FX nan nan\n",
      "FX nan nan\n"
     ]
    },
    {
     "name": "stderr",
     "output_type": "stream",
     "text": [
      "  5%|███████▋                                                                                                                                                       | 9325/194080 [00:04<01:36, 1906.54it/s]"
     ]
    },
    {
     "name": "stdout",
     "output_type": "stream",
     "text": [
      "FX nan nan\n",
      "SG 00 43779\n",
      "FX nan nan\n"
     ]
    },
    {
     "name": "stderr",
     "output_type": "stream",
     "text": [
      "  5%|████████                                                                                                                                                       | 9909/194080 [00:05<01:38, 1876.81it/s]"
     ]
    },
    {
     "name": "stdout",
     "output_type": "stream",
     "text": [
      "NZ 00 30840\n"
     ]
    },
    {
     "name": "stderr",
     "output_type": "stream",
     "text": [
      "  6%|████████▋                                                                                                                                                     | 10728/194080 [00:05<01:32, 1981.85it/s]"
     ]
    },
    {
     "name": "stdout",
     "output_type": "stream",
     "text": [
      "NZ 00 30840\n",
      "FX nan nan\n"
     ]
    },
    {
     "name": "stderr",
     "output_type": "stream",
     "text": [
      "  6%|█████████▍                                                                                                                                                    | 11619/194080 [00:05<01:28, 2067.10it/s]"
     ]
    },
    {
     "name": "stdout",
     "output_type": "stream",
     "text": [
      "YU nan nan\n",
      "NZ 00 30909\n",
      "YU nan nan\n"
     ]
    },
    {
     "name": "stderr",
     "output_type": "stream",
     "text": [
      "  6%|█████████▉                                                                                                                                                    | 12236/194080 [00:06<01:30, 2013.22it/s]"
     ]
    },
    {
     "name": "stdout",
     "output_type": "stream",
     "text": [
      "FX nan nan\n",
      "DK 14 nan\n"
     ]
    },
    {
     "name": "stderr",
     "output_type": "stream",
     "text": [
      "  7%|███████████▎                                                                                                                                                  | 13913/194080 [00:07<01:26, 2083.75it/s]"
     ]
    },
    {
     "name": "stdout",
     "output_type": "stream",
     "text": [
      "PF 00 31538\n"
     ]
    },
    {
     "name": "stderr",
     "output_type": "stream",
     "text": [
      "  8%|████████████▏                                                                                                                                                 | 15014/194080 [00:07<01:28, 2019.94it/s]"
     ]
    },
    {
     "name": "stdout",
     "output_type": "stream",
     "text": [
      "FX nan nan\n"
     ]
    },
    {
     "name": "stderr",
     "output_type": "stream",
     "text": [
      "  8%|████████████▋                                                                                                                                                 | 15642/194080 [00:07<01:30, 1965.79it/s]"
     ]
    },
    {
     "name": "stdout",
     "output_type": "stream",
     "text": [
      "FX nan nan\n"
     ]
    },
    {
     "name": "stderr",
     "output_type": "stream",
     "text": [
      "  8%|█████████████▍                                                                                                                                                | 16464/194080 [00:08<01:34, 1884.84it/s]"
     ]
    },
    {
     "name": "stdout",
     "output_type": "stream",
     "text": [
      "YU nan nan\n",
      "FX nan nan\n"
     ]
    },
    {
     "name": "stderr",
     "output_type": "stream",
     "text": [
      "  9%|██████████████▎                                                                                                                                               | 17507/194080 [00:08<01:27, 2027.34it/s]"
     ]
    },
    {
     "name": "stdout",
     "output_type": "stream",
     "text": [
      "PS nan nan\n",
      "FX nan nan\n"
     ]
    },
    {
     "name": "stderr",
     "output_type": "stream",
     "text": [
      "  9%|██████████████▉                                                                                                                                               | 18370/194080 [00:09<01:22, 2125.78it/s]"
     ]
    },
    {
     "name": "stdout",
     "output_type": "stream",
     "text": [
      "FX nan nan\n",
      "YU nan nan\n"
     ]
    },
    {
     "name": "stderr",
     "output_type": "stream",
     "text": [
      " 10%|███████████████▍                                                                                                                                              | 18995/194080 [00:09<01:29, 1958.50it/s]"
     ]
    },
    {
     "name": "stdout",
     "output_type": "stream",
     "text": [
      "SG 00 43779\n",
      "FX nan nan\n",
      "NZ 00 30861\n"
     ]
    },
    {
     "name": "stderr",
     "output_type": "stream",
     "text": [
      " 10%|███████████████▉                                                                                                                                              | 19595/194080 [00:09<01:29, 1946.58it/s]"
     ]
    },
    {
     "name": "stdout",
     "output_type": "stream",
     "text": [
      "PS nan nan\n",
      "FX nan nan\n"
     ]
    },
    {
     "name": "stderr",
     "output_type": "stream",
     "text": [
      " 10%|████████████████▎                                                                                                                                             | 20004/194080 [00:10<01:27, 1989.16it/s]"
     ]
    },
    {
     "name": "stdout",
     "output_type": "stream",
     "text": [
      "FX nan nan\n"
     ]
    },
    {
     "name": "stderr",
     "output_type": "stream",
     "text": [
      " 11%|████████████████▊                                                                                                                                             | 20660/194080 [00:10<01:23, 2084.15it/s]"
     ]
    },
    {
     "name": "stdout",
     "output_type": "stream",
     "text": [
      "NZ 00 30840\n",
      "FX nan nan\n"
     ]
    },
    {
     "name": "stderr",
     "output_type": "stream",
     "text": [
      " 11%|█████████████████▎                                                                                                                                            | 21292/194080 [00:10<01:23, 2064.04it/s]"
     ]
    },
    {
     "name": "stdout",
     "output_type": "stream",
     "text": [
      "YU nan nan\n",
      "SG 00 43779\n",
      "FX nan nan\n",
      "FX nan nan\n"
     ]
    },
    {
     "name": "stderr",
     "output_type": "stream",
     "text": [
      " 11%|█████████████████▊                                                                                                                                            | 21934/194080 [00:11<01:23, 2051.84it/s]"
     ]
    },
    {
     "name": "stdout",
     "output_type": "stream",
     "text": [
      "PS nan nan\n"
     ]
    },
    {
     "name": "stderr",
     "output_type": "stream",
     "text": [
      " 12%|██████████████████▍                                                                                                                                           | 22578/194080 [00:11<01:22, 2070.68it/s]"
     ]
    },
    {
     "name": "stdout",
     "output_type": "stream",
     "text": [
      "FX nan nan\n",
      "YU nan nan\n"
     ]
    },
    {
     "name": "stderr",
     "output_type": "stream",
     "text": [
      " 12%|███████████████████                                                                                                                                           | 23420/194080 [00:11<01:23, 2044.91it/s]"
     ]
    },
    {
     "name": "stdout",
     "output_type": "stream",
     "text": [
      "NZ 00 30893\n"
     ]
    },
    {
     "name": "stderr",
     "output_type": "stream",
     "text": [
      " 12%|███████████████████▋                                                                                                                                          | 24237/194080 [00:12<01:25, 1988.35it/s]"
     ]
    },
    {
     "name": "stdout",
     "output_type": "stream",
     "text": [
      "DE 10 13633\n",
      "FX nan nan\n"
     ]
    },
    {
     "name": "stderr",
     "output_type": "stream",
     "text": [
      " 13%|████████████████████▍                                                                                                                                         | 25049/194080 [00:12<01:24, 1995.35it/s]"
     ]
    },
    {
     "name": "stdout",
     "output_type": "stream",
     "text": [
      "FX nan nan\n",
      "FX nan nan\n"
     ]
    },
    {
     "name": "stderr",
     "output_type": "stream",
     "text": [
      " 13%|████████████████████▉                                                                                                                                         | 25649/194080 [00:12<01:28, 1898.30it/s]"
     ]
    },
    {
     "name": "stdout",
     "output_type": "stream",
     "text": [
      "FX nan nan\n"
     ]
    },
    {
     "name": "stderr",
     "output_type": "stream",
     "text": [
      " 13%|█████████████████████▏                                                                                                                                        | 26056/194080 [00:13<01:26, 1950.76it/s]"
     ]
    },
    {
     "name": "stdout",
     "output_type": "stream",
     "text": [
      "FX nan nan\n"
     ]
    },
    {
     "name": "stderr",
     "output_type": "stream",
     "text": [
      " 14%|█████████████████████▊                                                                                                                                        | 26855/194080 [00:13<01:27, 1911.08it/s]"
     ]
    },
    {
     "name": "stdout",
     "output_type": "stream",
     "text": [
      "FX nan nan\n"
     ]
    },
    {
     "name": "stderr",
     "output_type": "stream",
     "text": [
      " 14%|██████████████████████▌                                                                                                                                       | 27659/194080 [00:13<01:23, 1992.84it/s]"
     ]
    },
    {
     "name": "stdout",
     "output_type": "stream",
     "text": [
      "YU nan nan\n",
      "FX nan nan\n"
     ]
    },
    {
     "name": "stderr",
     "output_type": "stream",
     "text": [
      " 15%|███████████████████████                                                                                                                                       | 28302/194080 [00:14<01:22, 1997.49it/s]"
     ]
    },
    {
     "name": "stdout",
     "output_type": "stream",
     "text": [
      "FX nan nan\n",
      "FX nan nan\n",
      "FX nan nan\n"
     ]
    },
    {
     "name": "stderr",
     "output_type": "stream",
     "text": [
      " 15%|███████████████████████▋                                                                                                                                      | 29102/194080 [00:14<01:23, 1968.11it/s]"
     ]
    },
    {
     "name": "stdout",
     "output_type": "stream",
     "text": [
      "DK 14 nan\n",
      "FX nan nan\n"
     ]
    },
    {
     "name": "stderr",
     "output_type": "stream",
     "text": [
      " 15%|████████████████████████                                                                                                                                      | 29496/194080 [00:14<01:25, 1931.50it/s]"
     ]
    },
    {
     "name": "stdout",
     "output_type": "stream",
     "text": [
      "FX nan nan\n",
      "FX nan nan\n"
     ]
    },
    {
     "name": "stderr",
     "output_type": "stream",
     "text": [
      " 15%|████████████████████████▎                                                                                                                                     | 29899/194080 [00:15<01:25, 1930.08it/s]"
     ]
    },
    {
     "name": "stdout",
     "output_type": "stream",
     "text": [
      "FX nan nan\n",
      "FX nan nan\n"
     ]
    },
    {
     "name": "stderr",
     "output_type": "stream",
     "text": [
      " 16%|████████████████████████▊                                                                                                                                     | 30530/194080 [00:15<01:19, 2051.74it/s]"
     ]
    },
    {
     "name": "stdout",
     "output_type": "stream",
     "text": [
      "YU nan nan\n",
      "FX nan nan\n",
      "FX nan nan\n",
      "FX nan nan\n"
     ]
    },
    {
     "name": "stderr",
     "output_type": "stream",
     "text": [
      " 16%|█████████████████████████▊                                                                                                                                    | 31743/194080 [00:15<01:21, 1984.90it/s]"
     ]
    },
    {
     "name": "stdout",
     "output_type": "stream",
     "text": [
      "FX nan nan\n",
      "SG 00 43779\n",
      "FX nan nan\n",
      "YU nan nan\n"
     ]
    },
    {
     "name": "stderr",
     "output_type": "stream",
     "text": [
      " 17%|██████████████████████████▏                                                                                                                                   | 32158/194080 [00:16<01:20, 2007.17it/s]"
     ]
    },
    {
     "name": "stdout",
     "output_type": "stream",
     "text": [
      "FX nan nan\n",
      "FX nan nan\n",
      "FX nan nan\n",
      "FX nan nan\n"
     ]
    },
    {
     "name": "stderr",
     "output_type": "stream",
     "text": [
      " 17%|██████████████████████████▋                                                                                                                                   | 32804/194080 [00:16<01:17, 2083.37it/s]"
     ]
    },
    {
     "name": "stdout",
     "output_type": "stream",
     "text": [
      "AN 00 5485\n",
      "PS nan nan\n"
     ]
    },
    {
     "name": "stderr",
     "output_type": "stream",
     "text": [
      " 17%|███████████████████████████▍                                                                                                                                  | 33639/194080 [00:16<01:20, 2002.73it/s]"
     ]
    },
    {
     "name": "stdout",
     "output_type": "stream",
     "text": [
      "FX nan nan\n",
      "FX nan nan\n"
     ]
    },
    {
     "name": "stderr",
     "output_type": "stream",
     "text": [
      " 18%|████████████████████████████▏                                                                                                                                 | 34682/194080 [00:17<01:19, 1996.26it/s]"
     ]
    },
    {
     "name": "stdout",
     "output_type": "stream",
     "text": [
      "FX nan nan\n",
      "FX nan nan\n",
      "FX nan nan\n"
     ]
    },
    {
     "name": "stderr",
     "output_type": "stream",
     "text": [
      " 18%|█████████████████████████████                                                                                                                                 | 35726/194080 [00:17<01:19, 1994.45it/s]"
     ]
    },
    {
     "name": "stdout",
     "output_type": "stream",
     "text": [
      "FX nan nan\n",
      "FX nan nan\n"
     ]
    },
    {
     "name": "stderr",
     "output_type": "stream",
     "text": [
      " 19%|█████████████████████████████▌                                                                                                                                | 36334/194080 [00:18<01:20, 1971.77it/s]"
     ]
    },
    {
     "name": "stdout",
     "output_type": "stream",
     "text": [
      "PS nan nan\n",
      "FX nan nan\n",
      "FX nan nan\n"
     ]
    },
    {
     "name": "stderr",
     "output_type": "stream",
     "text": [
      " 19%|█████████████████████████████▉                                                                                                                                | 36736/194080 [00:18<01:20, 1965.23it/s]"
     ]
    },
    {
     "name": "stdout",
     "output_type": "stream",
     "text": [
      "FX nan nan\n",
      "YU nan nan\n",
      "FX nan nan\n"
     ]
    },
    {
     "name": "stderr",
     "output_type": "stream",
     "text": [
      " 19%|██████████████████████████████▏                                                                                                                               | 37130/194080 [00:18<01:21, 1931.12it/s]"
     ]
    },
    {
     "name": "stdout",
     "output_type": "stream",
     "text": [
      "YU nan nan\n",
      "FX nan nan\n",
      "PS nan nan\n",
      "FX nan nan\n"
     ]
    },
    {
     "name": "stderr",
     "output_type": "stream",
     "text": [
      " 19%|██████████████████████████████▋                                                                                                                               | 37737/194080 [00:19<01:21, 1916.73it/s]"
     ]
    },
    {
     "name": "stdout",
     "output_type": "stream",
     "text": [
      "FX nan nan\n",
      "YU nan nan\n",
      "DE 10 13633\n"
     ]
    },
    {
     "name": "stderr",
     "output_type": "stream",
     "text": [
      " 20%|███████████████████████████████▏                                                                                                                              | 38316/194080 [00:19<01:23, 1863.51it/s]"
     ]
    },
    {
     "name": "stdout",
     "output_type": "stream",
     "text": [
      "FX nan nan\n",
      "FX nan nan\n",
      "FX nan nan\n"
     ]
    },
    {
     "name": "stderr",
     "output_type": "stream",
     "text": [
      " 20%|███████████████████████████████▋                                                                                                                              | 38923/194080 [00:19<01:20, 1933.68it/s]"
     ]
    },
    {
     "name": "stdout",
     "output_type": "stream",
     "text": [
      "FX nan nan\n",
      "NC 00 29632\n",
      "FX nan nan\n"
     ]
    },
    {
     "name": "stderr",
     "output_type": "stream",
     "text": [
      " 20%|████████████████████████████████▎                                                                                                                             | 39736/194080 [00:20<01:18, 1955.72it/s]"
     ]
    },
    {
     "name": "stdout",
     "output_type": "stream",
     "text": [
      "FX nan nan\n",
      "YU nan nan\n"
     ]
    },
    {
     "name": "stderr",
     "output_type": "stream",
     "text": [
      " 21%|█████████████████████████████████                                                                                                                             | 40568/194080 [00:20<01:15, 2021.17it/s]"
     ]
    },
    {
     "name": "stdout",
     "output_type": "stream",
     "text": [
      "FX nan nan\n"
     ]
    },
    {
     "name": "stderr",
     "output_type": "stream",
     "text": [
      " 21%|█████████████████████████████████▋                                                                                                                            | 41382/194080 [00:20<01:16, 2008.41it/s]"
     ]
    },
    {
     "name": "stdout",
     "output_type": "stream",
     "text": [
      "FX nan nan\n",
      "FX nan nan\n",
      "NZ 00 30840\n",
      "FX nan nan\n"
     ]
    },
    {
     "name": "stderr",
     "output_type": "stream",
     "text": [
      " 22%|██████████████████████████████████▎                                                                                                                           | 42201/194080 [00:21<01:19, 1905.10it/s]"
     ]
    },
    {
     "name": "stdout",
     "output_type": "stream",
     "text": [
      "FX nan nan\n",
      "FX nan nan\n",
      "FX nan nan\n",
      "DE 10 13633\n"
     ]
    },
    {
     "name": "stderr",
     "output_type": "stream",
     "text": [
      " 22%|██████████████████████████████████▊                                                                                                                           | 42800/194080 [00:21<01:19, 1903.99it/s]"
     ]
    },
    {
     "name": "stdout",
     "output_type": "stream",
     "text": [
      "AN nan nan\n",
      "FX nan nan\n",
      "DK 14 nan\n",
      "FX nan nan\n"
     ]
    },
    {
     "name": "stderr",
     "output_type": "stream",
     "text": [
      " 22%|███████████████████████████████████▎                                                                                                                          | 43401/194080 [00:21<01:17, 1935.09it/s]"
     ]
    },
    {
     "name": "stdout",
     "output_type": "stream",
     "text": [
      "YU nan nan\n"
     ]
    },
    {
     "name": "stderr",
     "output_type": "stream",
     "text": [
      " 23%|███████████████████████████████████▊                                                                                                                          | 44031/194080 [00:22<01:13, 2034.08it/s]"
     ]
    },
    {
     "name": "stdout",
     "output_type": "stream",
     "text": [
      "BN 13 nan\n",
      "FX nan nan\n"
     ]
    },
    {
     "name": "stderr",
     "output_type": "stream",
     "text": [
      " 23%|████████████████████████████████████▎                                                                                                                         | 44635/194080 [00:22<01:16, 1963.21it/s]"
     ]
    },
    {
     "name": "stdout",
     "output_type": "stream",
     "text": [
      "FX nan nan\n",
      "FX nan nan\n",
      "FX nan nan\n"
     ]
    },
    {
     "name": "stderr",
     "output_type": "stream",
     "text": [
      " 23%|████████████████████████████████████▊                                                                                                                         | 45216/194080 [00:22<01:20, 1845.57it/s]"
     ]
    },
    {
     "name": "stdout",
     "output_type": "stream",
     "text": [
      "FX nan nan\n",
      "FX nan nan\n",
      "FX nan nan\n"
     ]
    },
    {
     "name": "stderr",
     "output_type": "stream",
     "text": [
      " 24%|█████████████████████████████████████▉                                                                                                                        | 46573/194080 [00:23<01:15, 1950.09it/s]"
     ]
    },
    {
     "name": "stdout",
     "output_type": "stream",
     "text": [
      "FX nan nan\n",
      "FX nan nan\n"
     ]
    },
    {
     "name": "stderr",
     "output_type": "stream",
     "text": [
      " 24%|██████████████████████████████████████▏                                                                                                                       | 46960/194080 [00:23<01:20, 1830.60it/s]"
     ]
    },
    {
     "name": "stdout",
     "output_type": "stream",
     "text": [
      "FX nan nan\n",
      "YU nan nan\n",
      "FX nan nan\n"
     ]
    },
    {
     "name": "stderr",
     "output_type": "stream",
     "text": [
      " 24%|██████████████████████████████████████▋                                                                                                                       | 47544/194080 [00:24<01:16, 1905.72it/s]"
     ]
    },
    {
     "name": "stdout",
     "output_type": "stream",
     "text": [
      "YU nan nan\n",
      "FX nan nan\n",
      "FX nan nan\n",
      "FX nan nan\n"
     ]
    },
    {
     "name": "stderr",
     "output_type": "stream",
     "text": [
      " 25%|███████████████████████████████████████▍                                                                                                                      | 48381/194080 [00:24<01:12, 2000.64it/s]"
     ]
    },
    {
     "name": "stdout",
     "output_type": "stream",
     "text": [
      "FX nan nan\n"
     ]
    },
    {
     "name": "stderr",
     "output_type": "stream",
     "text": [
      " 25%|███████████████████████████████████████▉                                                                                                                      | 48991/194080 [00:24<01:15, 1925.59it/s]"
     ]
    },
    {
     "name": "stdout",
     "output_type": "stream",
     "text": [
      "YU nan nan\n",
      "FX nan nan\n"
     ]
    },
    {
     "name": "stderr",
     "output_type": "stream",
     "text": [
      " 26%|█████████████████████████████████████████                                                                                                                     | 50403/194080 [00:25<01:14, 1938.40it/s]"
     ]
    },
    {
     "name": "stdout",
     "output_type": "stream",
     "text": [
      "FX nan nan\n",
      "PS nan nan\n",
      "FX nan nan\n",
      "FX nan nan\n",
      "DK 14 nan\n",
      "FX nan nan\n"
     ]
    },
    {
     "name": "stderr",
     "output_type": "stream",
     "text": [
      " 26%|█████████████████████████████████████████▌                                                                                                                    | 50984/194080 [00:25<01:15, 1885.23it/s]"
     ]
    },
    {
     "name": "stdout",
     "output_type": "stream",
     "text": [
      "FX nan nan\n",
      "FX nan nan\n",
      "FX nan nan\n"
     ]
    },
    {
     "name": "stderr",
     "output_type": "stream",
     "text": [
      " 27%|█████████████████████████████████████████▉                                                                                                                    | 51567/194080 [00:26<01:17, 1846.31it/s]"
     ]
    },
    {
     "name": "stdout",
     "output_type": "stream",
     "text": [
      "FX nan nan\n"
     ]
    },
    {
     "name": "stderr",
     "output_type": "stream",
     "text": [
      " 27%|██████████████████████████████████████████▎                                                                                                                   | 51963/194080 [00:26<01:15, 1887.47it/s]"
     ]
    },
    {
     "name": "stdout",
     "output_type": "stream",
     "text": [
      "FX nan nan\n"
     ]
    },
    {
     "name": "stderr",
     "output_type": "stream",
     "text": [
      " 27%|██████████████████████████████████████████▋                                                                                                                   | 52360/194080 [00:26<01:13, 1937.07it/s]"
     ]
    },
    {
     "name": "stdout",
     "output_type": "stream",
     "text": [
      "FX nan nan\n"
     ]
    },
    {
     "name": "stderr",
     "output_type": "stream",
     "text": [
      " 27%|███████████████████████████████████████████                                                                                                                   | 52946/194080 [00:27<01:30, 1558.27it/s]"
     ]
    },
    {
     "name": "stdout",
     "output_type": "stream",
     "text": [
      "FX nan nan\n",
      "PS nan nan\n"
     ]
    },
    {
     "name": "stderr",
     "output_type": "stream",
     "text": [
      " 27%|███████████████████████████████████████████▍                                                                                                                  | 53340/194080 [00:27<01:21, 1737.23it/s]"
     ]
    },
    {
     "name": "stdout",
     "output_type": "stream",
     "text": [
      "FX nan nan\n"
     ]
    },
    {
     "name": "stderr",
     "output_type": "stream",
     "text": [
      " 28%|███████████████████████████████████████████▉                                                                                                                  | 53950/194080 [00:27<01:12, 1929.10it/s]"
     ]
    },
    {
     "name": "stdout",
     "output_type": "stream",
     "text": [
      "FX nan nan\n"
     ]
    },
    {
     "name": "stderr",
     "output_type": "stream",
     "text": [
      " 28%|████████████████████████████████████████████▍                                                                                                                 | 54584/194080 [00:27<01:11, 1955.95it/s]"
     ]
    },
    {
     "name": "stdout",
     "output_type": "stream",
     "text": [
      "FX nan nan\n",
      "FX nan nan\n"
     ]
    },
    {
     "name": "stderr",
     "output_type": "stream",
     "text": [
      " 29%|█████████████████████████████████████████████▏                                                                                                                | 55562/194080 [00:28<01:12, 1919.71it/s]"
     ]
    },
    {
     "name": "stdout",
     "output_type": "stream",
     "text": [
      "PS nan nan\n"
     ]
    },
    {
     "name": "stderr",
     "output_type": "stream",
     "text": [
      " 30%|██████████████████████████████████████████████▋                                                                                                               | 57343/194080 [00:29<01:09, 1973.75it/s]"
     ]
    },
    {
     "name": "stdout",
     "output_type": "stream",
     "text": [
      "FX nan nan\n",
      "FX nan nan\n"
     ]
    },
    {
     "name": "stderr",
     "output_type": "stream",
     "text": [
      " 30%|███████████████████████████████████████████████                                                                                                               | 57745/194080 [00:29<01:09, 1964.46it/s]"
     ]
    },
    {
     "name": "stdout",
     "output_type": "stream",
     "text": [
      "FX nan nan\n",
      "YU nan nan\n"
     ]
    },
    {
     "name": "stderr",
     "output_type": "stream",
     "text": [
      " 30%|███████████████████████████████████████████████▍                                                                                                              | 58341/194080 [00:29<01:09, 1946.22it/s]"
     ]
    },
    {
     "name": "stdout",
     "output_type": "stream",
     "text": [
      "FX nan nan\n",
      "FX nan nan\n"
     ]
    },
    {
     "name": "stderr",
     "output_type": "stream",
     "text": [
      " 30%|████████████████████████████████████████████████                                                                                                              | 58967/194080 [00:30<01:06, 2035.43it/s]"
     ]
    },
    {
     "name": "stdout",
     "output_type": "stream",
     "text": [
      "YU nan nan\n",
      "FX nan nan\n"
     ]
    },
    {
     "name": "stderr",
     "output_type": "stream",
     "text": [
      " 31%|████████████████████████████████████████████████▌                                                                                                             | 59588/194080 [00:30<01:06, 2030.14it/s]"
     ]
    },
    {
     "name": "stdout",
     "output_type": "stream",
     "text": [
      "YU nan nan\n",
      "FX nan nan\n"
     ]
    },
    {
     "name": "stderr",
     "output_type": "stream",
     "text": [
      " 31%|████████████████████████████████████████████████▊                                                                                                             | 60001/194080 [00:30<01:06, 2018.43it/s]"
     ]
    },
    {
     "name": "stdout",
     "output_type": "stream",
     "text": [
      "BN 13 nan\n",
      "FX nan nan\n",
      "YU nan nan\n"
     ]
    },
    {
     "name": "stderr",
     "output_type": "stream",
     "text": [
      " 31%|█████████████████████████████████████████████████▎                                                                                                            | 60615/194080 [00:30<01:07, 1985.25it/s]"
     ]
    },
    {
     "name": "stdout",
     "output_type": "stream",
     "text": [
      "UG 12 nan\n",
      "DE 10 13633\n",
      "FX nan nan\n"
     ]
    },
    {
     "name": "stderr",
     "output_type": "stream",
     "text": [
      " 32%|█████████████████████████████████████████████████▊                                                                                                            | 61201/194080 [00:31<01:09, 1905.15it/s]"
     ]
    },
    {
     "name": "stdout",
     "output_type": "stream",
     "text": [
      "FX nan nan\n",
      "YU nan nan\n",
      "FX nan nan\n"
     ]
    },
    {
     "name": "stderr",
     "output_type": "stream",
     "text": [
      " 32%|██████████████████████████████████████████████████▎                                                                                                           | 61815/194080 [00:31<01:07, 1960.67it/s]"
     ]
    },
    {
     "name": "stdout",
     "output_type": "stream",
     "text": [
      "YU nan nan\n",
      "FX nan nan\n",
      "FX nan nan\n"
     ]
    },
    {
     "name": "stderr",
     "output_type": "stream",
     "text": [
      " 32%|██████████████████████████████████████████████████▊                                                                                                           | 62395/194080 [00:31<01:10, 1880.33it/s]"
     ]
    },
    {
     "name": "stdout",
     "output_type": "stream",
     "text": [
      "FX nan nan\n",
      "FX nan nan\n"
     ]
    },
    {
     "name": "stderr",
     "output_type": "stream",
     "text": [
      " 33%|███████████████████████████████████████████████████▊                                                                                                          | 63578/194080 [00:32<01:07, 1941.86it/s]"
     ]
    },
    {
     "name": "stdout",
     "output_type": "stream",
     "text": [
      "FX nan nan\n",
      "YU nan nan\n"
     ]
    },
    {
     "name": "stderr",
     "output_type": "stream",
     "text": [
      " 33%|████████████████████████████████████████████████████▏                                                                                                         | 64148/194080 [00:32<01:09, 1860.77it/s]"
     ]
    },
    {
     "name": "stdout",
     "output_type": "stream",
     "text": [
      "YU nan nan\n",
      "UG 12 nan\n",
      "FX nan nan\n"
     ]
    },
    {
     "name": "stderr",
     "output_type": "stream",
     "text": [
      " 33%|████████████████████████████████████████████████████▋                                                                                                         | 64757/194080 [00:33<01:06, 1957.92it/s]"
     ]
    },
    {
     "name": "stdout",
     "output_type": "stream",
     "text": [
      "DK 14 nan\n",
      "FX nan nan\n"
     ]
    },
    {
     "name": "stderr",
     "output_type": "stream",
     "text": [
      " 34%|█████████████████████████████████████████████████████▏                                                                                                        | 65365/194080 [00:33<01:07, 1911.03it/s]"
     ]
    },
    {
     "name": "stdout",
     "output_type": "stream",
     "text": [
      "FX nan nan\n"
     ]
    },
    {
     "name": "stderr",
     "output_type": "stream",
     "text": [
      " 34%|█████████████████████████████████████████████████████▋                                                                                                        | 65981/194080 [00:33<01:03, 2001.69it/s]"
     ]
    },
    {
     "name": "stdout",
     "output_type": "stream",
     "text": [
      "FX nan nan\n",
      "YU nan nan\n"
     ]
    },
    {
     "name": "stderr",
     "output_type": "stream",
     "text": [
      " 34%|██████████████████████████████████████████████████████▏                                                                                                       | 66580/194080 [00:34<01:06, 1928.31it/s]"
     ]
    },
    {
     "name": "stdout",
     "output_type": "stream",
     "text": [
      "AN nan nan\n",
      "FX nan nan\n"
     ]
    },
    {
     "name": "stderr",
     "output_type": "stream",
     "text": [
      " 35%|███████████████████████████████████████████████████████▏                                                                                                      | 67764/194080 [00:34<01:06, 1912.75it/s]"
     ]
    },
    {
     "name": "stdout",
     "output_type": "stream",
     "text": [
      "FX nan nan\n",
      "YU nan nan\n"
     ]
    },
    {
     "name": "stderr",
     "output_type": "stream",
     "text": [
      " 35%|███████████████████████████████████████████████████████▋                                                                                                      | 68358/194080 [00:34<01:04, 1949.50it/s]"
     ]
    },
    {
     "name": "stdout",
     "output_type": "stream",
     "text": [
      "FX nan nan\n",
      "FX nan nan\n",
      "FX"
     ]
    },
    {
     "name": "stderr",
     "output_type": "stream",
     "text": [
      "\r",
      " 35%|███████████████████████████████████████████████████████▊                                                                                                      | 68554/194080 [00:35<01:04, 1939.44it/s]"
     ]
    },
    {
     "name": "stdout",
     "output_type": "stream",
     "text": [
      " nan nan\n",
      "YU nan nan\n",
      "YU nan nan\n"
     ]
    },
    {
     "name": "stderr",
     "output_type": "stream",
     "text": [
      " 36%|████████████████████████████████████████████████████████▍                                                                                                     | 69323/194080 [00:35<01:18, 1593.41it/s]"
     ]
    },
    {
     "name": "stdout",
     "output_type": "stream",
     "text": [
      "YU nan nan\n",
      "YU nan nan\n"
     ]
    },
    {
     "name": "stderr",
     "output_type": "stream",
     "text": [
      " 36%|█████████████████████████████████████████████████████████                                                                                                     | 70149/194080 [00:36<01:03, 1957.63it/s]"
     ]
    },
    {
     "name": "stdout",
     "output_type": "stream",
     "text": [
      "YU nan nan\n"
     ]
    },
    {
     "name": "stderr",
     "output_type": "stream",
     "text": [
      " 36%|█████████████████████████████████████████████████████████▌                                                                                                    | 70756/194080 [00:36<01:04, 1915.12it/s]"
     ]
    },
    {
     "name": "stdout",
     "output_type": "stream",
     "text": [
      "FX nan nan\n",
      "FX nan nan\n"
     ]
    },
    {
     "name": "stderr",
     "output_type": "stream",
     "text": [
      " 37%|█████████████████████████████████████████████████████████▉                                                                                                    | 71177/194080 [00:36<01:01, 1999.97it/s]"
     ]
    },
    {
     "name": "stdout",
     "output_type": "stream",
     "text": [
      "FX nan nan\n"
     ]
    },
    {
     "name": "stderr",
     "output_type": "stream",
     "text": [
      " 37%|██████████████████████████████████████████████████████████▍                                                                                                   | 71814/194080 [00:36<00:59, 2066.37it/s]"
     ]
    },
    {
     "name": "stdout",
     "output_type": "stream",
     "text": [
      "FX nan nan\n",
      "FX nan nan\n"
     ]
    },
    {
     "name": "stderr",
     "output_type": "stream",
     "text": [
      " 37%|██████████████████████████████████████████████████████████▉                                                                                                   | 72455/194080 [00:37<00:57, 2097.31it/s]"
     ]
    },
    {
     "name": "stdout",
     "output_type": "stream",
     "text": [
      "FX nan nan\n"
     ]
    },
    {
     "name": "stderr",
     "output_type": "stream",
     "text": [
      " 38%|███████████████████████████████████████████████████████████▌                                                                                                  | 73159/194080 [00:37<00:55, 2181.40it/s]"
     ]
    },
    {
     "name": "stdout",
     "output_type": "stream",
     "text": [
      "FX nan nan\n"
     ]
    },
    {
     "name": "stderr",
     "output_type": "stream",
     "text": [
      " 38%|████████████████████████████████████████████████████████████                                                                                                  | 73835/194080 [00:37<00:59, 2028.60it/s]"
     ]
    },
    {
     "name": "stdout",
     "output_type": "stream",
     "text": [
      "PS nan nan\n",
      "YU nan nan\n",
      "FX nan nan\n",
      "FX nan nan\n",
      "FX nan nan\n"
     ]
    },
    {
     "name": "stderr",
     "output_type": "stream",
     "text": [
      " 39%|████████████████████████████████████████████████████████████▉                                                                                                 | 74899/194080 [00:38<00:58, 2042.04it/s]"
     ]
    },
    {
     "name": "stdout",
     "output_type": "stream",
     "text": [
      "YU nan nan\n"
     ]
    },
    {
     "name": "stderr",
     "output_type": "stream",
     "text": [
      " 39%|█████████████████████████████████████████████████████████████▊                                                                                                | 75972/194080 [00:38<00:55, 2119.70it/s]"
     ]
    },
    {
     "name": "stdout",
     "output_type": "stream",
     "text": [
      "FX nan nan\n"
     ]
    },
    {
     "name": "stderr",
     "output_type": "stream",
     "text": [
      " 40%|██████████████████████████████████████████████████████████████▌                                                                                               | 76829/194080 [00:39<00:55, 2094.54it/s]"
     ]
    },
    {
     "name": "stdout",
     "output_type": "stream",
     "text": [
      "FX nan nan\n"
     ]
    },
    {
     "name": "stderr",
     "output_type": "stream",
     "text": [
      " 40%|███████████████████████████████████████████████████████████████▉                                                                                              | 78581/194080 [00:40<00:53, 2142.29it/s]"
     ]
    },
    {
     "name": "stdout",
     "output_type": "stream",
     "text": [
      "YU nan nan\n",
      "FX nan nan\n"
     ]
    },
    {
     "name": "stderr",
     "output_type": "stream",
     "text": [
      " 41%|████████████████████████████████████████████████████████████████▊                                                                                             | 79674/194080 [00:40<00:52, 2167.36it/s]"
     ]
    },
    {
     "name": "stdout",
     "output_type": "stream",
     "text": [
      "FX nan nan\n"
     ]
    },
    {
     "name": "stderr",
     "output_type": "stream",
     "text": [
      " 41%|█████████████████████████████████████████████████████████████████▏                                                                                            | 80117/194080 [00:40<00:52, 2157.65it/s]"
     ]
    },
    {
     "name": "stdout",
     "output_type": "stream",
     "text": [
      "FX nan nan\n"
     ]
    },
    {
     "name": "stderr",
     "output_type": "stream",
     "text": [
      " 42%|█████████████████████████████████████████████████████████████████▊                                                                                            | 80788/194080 [00:41<00:51, 2192.34it/s]"
     ]
    },
    {
     "name": "stdout",
     "output_type": "stream",
     "text": [
      "YU nan nan\n",
      "PS nan nan\n"
     ]
    },
    {
     "name": "stderr",
     "output_type": "stream",
     "text": [
      " 42%|██████████████████████████████████████████████████████████████████▎                                                                                           | 81450/194080 [00:41<00:52, 2150.33it/s]"
     ]
    },
    {
     "name": "stdout",
     "output_type": "stream",
     "text": [
      "FX nan nan\n",
      "FX nan nan\n"
     ]
    },
    {
     "name": "stderr",
     "output_type": "stream",
     "text": [
      " 43%|███████████████████████████████████████████████████████████████████▏                                                                                          | 82537/194080 [00:41<00:54, 2053.19it/s]"
     ]
    },
    {
     "name": "stdout",
     "output_type": "stream",
     "text": [
      "FX nan nan\n",
      "FX nan nan\n",
      "FX nan nan\n"
     ]
    },
    {
     "name": "stderr",
     "output_type": "stream",
     "text": [
      " 43%|███████████████████████████████████████████████████████████████████▌                                                                                          | 82958/194080 [00:42<00:54, 2051.07it/s]"
     ]
    },
    {
     "name": "stdout",
     "output_type": "stream",
     "text": [
      "FX nan nan\n"
     ]
    },
    {
     "name": "stderr",
     "output_type": "stream",
     "text": [
      " 43%|███████████████████████████████████████████████████████████████████▊                                                                                          | 83365/194080 [00:42<00:56, 1953.76it/s]"
     ]
    },
    {
     "name": "stdout",
     "output_type": "stream",
     "text": [
      "PS nan nan\n",
      "FX nan nan\n",
      "FX nan nan\n"
     ]
    },
    {
     "name": "stderr",
     "output_type": "stream",
     "text": [
      " 43%|████████████████████████████████████████████████████████████████████▍                                                                                         | 83993/194080 [00:42<00:54, 2031.31it/s]"
     ]
    },
    {
     "name": "stdout",
     "output_type": "stream",
     "text": [
      "FX nan nan\n",
      "YU nan nan\n",
      "FX nan nan\n"
     ]
    },
    {
     "name": "stderr",
     "output_type": "stream",
     "text": [
      " 44%|█████████████████████████████████████████████████████████████████████                                                                                         | 84834/194080 [00:43<00:52, 2066.84it/s]"
     ]
    },
    {
     "name": "stdout",
     "output_type": "stream",
     "text": [
      "FX nan nan\n",
      "FX nan nan\n"
     ]
    },
    {
     "name": "stderr",
     "output_type": "stream",
     "text": [
      " 44%|█████████████████████████████████████████████████████████████████████▌                                                                                        | 85453/194080 [00:43<00:53, 2024.00it/s]"
     ]
    },
    {
     "name": "stdout",
     "output_type": "stream",
     "text": [
      "PS nan nan\n",
      "YU nan nan\n",
      "KY 03 nan\n",
      "FX nan nan\n"
     ]
    },
    {
     "name": "stderr",
     "output_type": "stream",
     "text": [
      " 44%|██████████████████████████████████████████████████████████████████████▎                                                                                       | 86295/194080 [00:43<00:52, 2070.12it/s]"
     ]
    },
    {
     "name": "stdout",
     "output_type": "stream",
     "text": [
      "YU nan nan\n"
     ]
    },
    {
     "name": "stderr",
     "output_type": "stream",
     "text": [
      " 45%|██████████████████████████████████████████████████████████████████████▊                                                                                       | 86926/194080 [00:44<00:51, 2082.39it/s]"
     ]
    },
    {
     "name": "stdout",
     "output_type": "stream",
     "text": [
      "FX nan nan\n",
      "FX nan nan\n"
     ]
    },
    {
     "name": "stderr",
     "output_type": "stream",
     "text": [
      " 45%|███████████████████████████████████████████████████████████████████████▎                                                                                      | 87545/194080 [00:44<00:52, 2020.18it/s]"
     ]
    },
    {
     "name": "stdout",
     "output_type": "stream",
     "text": [
      "PS nan nan\n",
      "UG 12 nan\n"
     ]
    },
    {
     "name": "stderr",
     "output_type": "stream",
     "text": [
      " 46%|███████████████████████████████████████████████████████████████████████▉                                                                                      | 88413/194080 [00:44<00:49, 2137.11it/s]"
     ]
    },
    {
     "name": "stdout",
     "output_type": "stream",
     "text": [
      "DK 14 nan\n"
     ]
    },
    {
     "name": "stderr",
     "output_type": "stream",
     "text": [
      " 46%|████████████████████████████████████████████████████████████████████████▍                                                                                     | 89054/194080 [00:45<00:50, 2071.40it/s]"
     ]
    },
    {
     "name": "stdout",
     "output_type": "stream",
     "text": [
      "FX nan nan\n",
      "PS nan nan\n",
      "YU nan nan\n"
     ]
    },
    {
     "name": "stderr",
     "output_type": "stream",
     "text": [
      " 47%|██████████████████████████████████████████████████████████████████████████▍                                                                                   | 91412/194080 [00:46<00:50, 2040.30it/s]"
     ]
    },
    {
     "name": "stdout",
     "output_type": "stream",
     "text": [
      "YU nan nan\n",
      "FX nan nan\n",
      "FX nan nan\n",
      "FX nan nan\n",
      "YU nan nan\n"
     ]
    },
    {
     "name": "stderr",
     "output_type": "stream",
     "text": [
      " 48%|███████████████████████████████████████████████████████████████████████████▍                                                                                  | 92725/194080 [00:47<00:48, 2073.59it/s]"
     ]
    },
    {
     "name": "stdout",
     "output_type": "stream",
     "text": [
      "FX nan nan\n"
     ]
    },
    {
     "name": "stderr",
     "output_type": "stream",
     "text": [
      " 49%|████████████████████████████████████████████████████████████████████████████▋                                                                                 | 94210/194080 [00:47<00:47, 2124.64it/s]"
     ]
    },
    {
     "name": "stdout",
     "output_type": "stream",
     "text": [
      "FX nan nan\n",
      "FX nan nan\n"
     ]
    },
    {
     "name": "stderr",
     "output_type": "stream",
     "text": [
      " 49%|█████████████████████████████████████████████████████████████████████████████▌                                                                                | 95335/194080 [00:48<00:44, 2221.24it/s]"
     ]
    },
    {
     "name": "stdout",
     "output_type": "stream",
     "text": [
      "FX nan nan\n",
      "FX nan nan\n",
      "FX nan nan\n"
     ]
    },
    {
     "name": "stderr",
     "output_type": "stream",
     "text": [
      " 49%|██████████████████████████████████████████████████████████████████████████████▏                                                                               | 95995/194080 [00:48<00:45, 2152.07it/s]"
     ]
    },
    {
     "name": "stdout",
     "output_type": "stream",
     "text": [
      "PS nan nan\n",
      "FX nan nan\n"
     ]
    },
    {
     "name": "stderr",
     "output_type": "stream",
     "text": [
      " 50%|██████████████████████████████████████████████████████████████████████████████▋                                                                               | 96687/194080 [00:48<00:43, 2233.74it/s]"
     ]
    },
    {
     "name": "stdout",
     "output_type": "stream",
     "text": [
      "YU nan nan\n",
      "FX"
     ]
    },
    {
     "name": "stderr",
     "output_type": "stream",
     "text": [
      " 50%|███████████████████████████████████████████████████████████████████████████████                                                                               | 97133/194080 [00:49<00:44, 2198.76it/s]"
     ]
    },
    {
     "name": "stdout",
     "output_type": "stream",
     "text": [
      " nan nan\n",
      "FX nan nan\n"
     ]
    },
    {
     "name": "stderr",
     "output_type": "stream",
     "text": [
      " 50%|███████████████████████████████████████████████████████████████████████████████▌                                                                              | 97797/194080 [00:49<00:44, 2163.71it/s]"
     ]
    },
    {
     "name": "stdout",
     "output_type": "stream",
     "text": [
      "FX nan nan\n",
      "FX nan nan\n",
      "PS nan nan\n",
      "FX nan nan\n"
     ]
    },
    {
     "name": "stderr",
     "output_type": "stream",
     "text": [
      " 51%|████████████████████████████████████████████████████████████████████████████████▏                                                                             | 98470/194080 [00:49<00:43, 2183.17it/s]"
     ]
    },
    {
     "name": "stdout",
     "output_type": "stream",
     "text": [
      "BN 13 nan\n",
      "AN nan nan\n"
     ]
    },
    {
     "name": "stderr",
     "output_type": "stream",
     "text": [
      " 51%|████████████████████████████████████████████████████████████████████████████████▌                                                                             | 98939/194080 [00:50<00:43, 2183.31it/s]"
     ]
    },
    {
     "name": "stdout",
     "output_type": "stream",
     "text": [
      "FX nan nan\n"
     ]
    },
    {
     "name": "stderr",
     "output_type": "stream",
     "text": [
      " 51%|█████████████████████████████████████████████████████████████████████████████████▎                                                                            | 99811/194080 [00:50<00:44, 2138.23it/s]"
     ]
    },
    {
     "name": "stdout",
     "output_type": "stream",
     "text": [
      "FX nan nan\n",
      "PS nan nan\n"
     ]
    },
    {
     "name": "stderr",
     "output_type": "stream",
     "text": [
      " 52%|█████████████████████████████████████████████████████████████████████████████████                                                                            | 100257/194080 [00:50<00:44, 2128.39it/s]"
     ]
    },
    {
     "name": "stdout",
     "output_type": "stream",
     "text": [
      "PS nan nan\n"
     ]
    },
    {
     "name": "stderr",
     "output_type": "stream",
     "text": [
      " 52%|█████████████████████████████████████████████████████████████████████████████████▉                                                                           | 101348/194080 [00:51<00:43, 2135.68it/s]"
     ]
    },
    {
     "name": "stdout",
     "output_type": "stream",
     "text": [
      "FX nan nan\n"
     ]
    },
    {
     "name": "stderr",
     "output_type": "stream",
     "text": [
      " 52%|██████████████████████████████████████████████████████████████████████████████████▎                                                                          | 101787/194080 [00:51<00:42, 2150.94it/s]"
     ]
    },
    {
     "name": "stdout",
     "output_type": "stream",
     "text": [
      "FX nan nan\n"
     ]
    },
    {
     "name": "stderr",
     "output_type": "stream",
     "text": [
      " 53%|███████████████████████████████████████████████████████████████████████████████████                                                                          | 102650/194080 [00:51<00:43, 2125.94it/s]"
     ]
    },
    {
     "name": "stdout",
     "output_type": "stream",
     "text": [
      "FX nan nan\n",
      "FX nan nan\n",
      "FX nan nan\n"
     ]
    },
    {
     "name": "stderr",
     "output_type": "stream",
     "text": [
      " 53%|███████████████████████████████████████████████████████████████████████████████████▋                                                                         | 103515/194080 [00:52<00:42, 2133.09it/s]"
     ]
    },
    {
     "name": "stdout",
     "output_type": "stream",
     "text": [
      "FX nan nan\n",
      "DK 14 nan\n"
     ]
    },
    {
     "name": "stderr",
     "output_type": "stream",
     "text": [
      " 54%|█████████████████████████████████████████████████████████████████████████████████████▌                                                                       | 105751/194080 [00:53<00:40, 2182.95it/s]"
     ]
    },
    {
     "name": "stdout",
     "output_type": "stream",
     "text": [
      "FX nan nan\n"
     ]
    },
    {
     "name": "stderr",
     "output_type": "stream",
     "text": [
      " 55%|██████████████████████████████████████████████████████████████████████████████████████▌                                                                      | 107065/194080 [00:53<00:40, 2151.11it/s]"
     ]
    },
    {
     "name": "stdout",
     "output_type": "stream",
     "text": [
      "YU nan nan\n"
     ]
    },
    {
     "name": "stderr",
     "output_type": "stream",
     "text": [
      " 56%|███████████████████████████████████████████████████████████████████████████████████████▎                                                                     | 107953/194080 [00:54<00:40, 2136.15it/s]"
     ]
    },
    {
     "name": "stdout",
     "output_type": "stream",
     "text": [
      "YU nan nan\n"
     ]
    },
    {
     "name": "stderr",
     "output_type": "stream",
     "text": [
      " 56%|███████████████████████████████████████████████████████████████████████████████████████▊                                                                     | 108609/194080 [00:54<00:40, 2115.23it/s]"
     ]
    },
    {
     "name": "stdout",
     "output_type": "stream",
     "text": [
      "FX nan nan\n",
      "DK 14 nan\n"
     ]
    },
    {
     "name": "stderr",
     "output_type": "stream",
     "text": [
      " 57%|█████████████████████████████████████████████████████████████████████████████████████████▍                                                                   | 110614/194080 [00:55<00:37, 2235.73it/s]"
     ]
    },
    {
     "name": "stdout",
     "output_type": "stream",
     "text": [
      "FX nan nan\n",
      "YU nan nan\n"
     ]
    },
    {
     "name": "stderr",
     "output_type": "stream",
     "text": [
      " 57%|██████████████████████████████████████████████████████████████████████████████████████████                                                                   | 111280/194080 [00:55<00:38, 2138.09it/s]"
     ]
    },
    {
     "name": "stdout",
     "output_type": "stream",
     "text": [
      "FX nan nan\n"
     ]
    },
    {
     "name": "stderr",
     "output_type": "stream",
     "text": [
      " 58%|██████████████████████████████████████████████████████████████████████████████████████████▉                                                                  | 112385/194080 [00:56<00:37, 2170.26it/s]"
     ]
    },
    {
     "name": "stdout",
     "output_type": "stream",
     "text": [
      "FX nan nan\n",
      "DE 10 13633\n"
     ]
    },
    {
     "name": "stderr",
     "output_type": "stream",
     "text": [
      " 58%|███████████████████████████████████████████████████████████████████████████████████████████▎                                                                 | 112829/194080 [00:56<00:37, 2172.99it/s]"
     ]
    },
    {
     "name": "stdout",
     "output_type": "stream",
     "text": [
      "IS 10 nan\n"
     ]
    },
    {
     "name": "stderr",
     "output_type": "stream",
     "text": [
      " 59%|████████████████████████████████████████████████████████████████████████████████████████████▏                                                                | 113914/194080 [00:57<00:38, 2097.76it/s]"
     ]
    },
    {
     "name": "stdout",
     "output_type": "stream",
     "text": [
      "IS 30 nan\n"
     ]
    },
    {
     "name": "stderr",
     "output_type": "stream",
     "text": [
      " 60%|█████████████████████████████████████████████████████████████████████████████████████████████▋                                                               | 115824/194080 [00:58<00:40, 1938.07it/s]"
     ]
    },
    {
     "name": "stdout",
     "output_type": "stream",
     "text": [
      "FX nan nan\n"
     ]
    },
    {
     "name": "stderr",
     "output_type": "stream",
     "text": [
      " 60%|██████████████████████████████████████████████████████████████████████████████████████████████                                                               | 116259/194080 [00:58<00:38, 2026.42it/s]"
     ]
    },
    {
     "name": "stdout",
     "output_type": "stream",
     "text": [
      "DE 10 13633\n"
     ]
    },
    {
     "name": "stderr",
     "output_type": "stream",
     "text": [
      " 61%|███████████████████████████████████████████████████████████████████████████████████████████████▋                                                             | 118235/194080 [00:59<00:35, 2148.28it/s]"
     ]
    },
    {
     "name": "stdout",
     "output_type": "stream",
     "text": [
      "FX nan nan\n"
     ]
    },
    {
     "name": "stderr",
     "output_type": "stream",
     "text": [
      " 61%|████████████████████████████████████████████████████████████████████████████████████████████████▎                                                            | 119096/194080 [00:59<00:35, 2096.81it/s]"
     ]
    },
    {
     "name": "stdout",
     "output_type": "stream",
     "text": [
      "FX nan nan\n"
     ]
    },
    {
     "name": "stderr",
     "output_type": "stream",
     "text": [
      " 62%|████████████████████████████████████████████████████████████████████████████████████████████████▊                                                            | 119751/194080 [01:00<00:35, 2103.20it/s]"
     ]
    },
    {
     "name": "stdout",
     "output_type": "stream",
     "text": [
      "YU nan nan\n"
     ]
    },
    {
     "name": "stderr",
     "output_type": "stream",
     "text": [
      " 62%|█████████████████████████████████████████████████████████████████████████████████████████████████▍                                                           | 120386/194080 [01:00<00:35, 2082.42it/s]"
     ]
    },
    {
     "name": "stdout",
     "output_type": "stream",
     "text": [
      "FX nan nan\n",
      "PS nan nan\n"
     ]
    },
    {
     "name": "stderr",
     "output_type": "stream",
     "text": [
      " 62%|█████████████████████████████████████████████████████████████████████████████████████████████████▉                                                           | 121025/194080 [01:00<00:34, 2090.36it/s]"
     ]
    },
    {
     "name": "stdout",
     "output_type": "stream",
     "text": [
      "PS nan nan\n",
      "FX nan nan\n",
      "FX nan nan\n"
     ]
    },
    {
     "name": "stderr",
     "output_type": "stream",
     "text": [
      " 63%|██████████████████████████████████████████████████████████████████████████████████████████████████▍                                                          | 121703/194080 [01:00<00:32, 2201.25it/s]"
     ]
    },
    {
     "name": "stdout",
     "output_type": "stream",
     "text": [
      "YU nan nan\n",
      "PS nan nan\n"
     ]
    },
    {
     "name": "stderr",
     "output_type": "stream",
     "text": [
      " 63%|███████████████████████████████████████████████████████████████████████████████████████████████████▌                                                         | 123057/194080 [01:01<00:32, 2216.43it/s]"
     ]
    },
    {
     "name": "stdout",
     "output_type": "stream",
     "text": [
      "FX nan nan\n"
     ]
    },
    {
     "name": "stderr",
     "output_type": "stream",
     "text": [
      " 64%|████████████████████████████████████████████████████████████████████████████████████████████████████                                                         | 123729/194080 [01:01<00:31, 2207.23it/s]"
     ]
    },
    {
     "name": "stdout",
     "output_type": "stream",
     "text": [
      "FX nan nan\n"
     ]
    },
    {
     "name": "stderr",
     "output_type": "stream",
     "text": [
      " 65%|█████████████████████████████████████████████████████████████████████████████████████████████████████▎                                                       | 125313/194080 [01:02<00:31, 2202.54it/s]"
     ]
    },
    {
     "name": "stdout",
     "output_type": "stream",
     "text": [
      "FX nan nan\n"
     ]
    },
    {
     "name": "stderr",
     "output_type": "stream",
     "text": [
      " 65%|██████████████████████████████████████████████████████████████████████████████████████████████████████▊                                                      | 127115/194080 [01:03<00:30, 2186.70it/s]"
     ]
    },
    {
     "name": "stdout",
     "output_type": "stream",
     "text": [
      "IS 05 nan\n",
      "FX nan nan\n",
      "BN"
     ]
    },
    {
     "name": "stderr",
     "output_type": "stream",
     "text": [
      " 66%|███████████████████████████████████████████████████████████████████████████████████████████████████████▏                                                     | 127574/194080 [01:03<00:29, 2223.43it/s]"
     ]
    },
    {
     "name": "stdout",
     "output_type": "stream",
     "text": [
      " 18 nan\n",
      "FX nan nan\n"
     ]
    },
    {
     "name": "stderr",
     "output_type": "stream",
     "text": [
      " 67%|████████████████████████████████████████████████████████████████████████████████████████████████████████▍                                                    | 129117/194080 [01:04<00:31, 2092.69it/s]"
     ]
    },
    {
     "name": "stdout",
     "output_type": "stream",
     "text": [
      "YU nan nan\n",
      "DK 14 nan\n",
      "PS nan nan\n"
     ]
    },
    {
     "name": "stderr",
     "output_type": "stream",
     "text": [
      " 67%|█████████████████████████████████████████████████████████████████████████████████████████████████████████▋                                                   | 130644/194080 [01:05<00:29, 2186.12it/s]"
     ]
    },
    {
     "name": "stdout",
     "output_type": "stream",
     "text": [
      "YU nan nan\n",
      "FX nan nan\n"
     ]
    },
    {
     "name": "stderr",
     "output_type": "stream",
     "text": [
      " 68%|██████████████████████████████████████████████████████████████████████████████████████████████████████████▍                                                  | 131504/194080 [01:05<00:29, 2093.36it/s]"
     ]
    },
    {
     "name": "stdout",
     "output_type": "stream",
     "text": [
      "YU nan nan\n"
     ]
    },
    {
     "name": "stderr",
     "output_type": "stream",
     "text": [
      " 69%|████████████████████████████████████████████████████████████████████████████████████████████████████████████▍                                                | 134106/194080 [01:06<00:28, 2079.31it/s]"
     ]
    },
    {
     "name": "stdout",
     "output_type": "stream",
     "text": [
      "FX nan nan\n"
     ]
    },
    {
     "name": "stderr",
     "output_type": "stream",
     "text": [
      " 70%|█████████████████████████████████████████████████████████████████████████████████████████████████████████████▌                                               | 135368/194080 [01:07<00:28, 2073.98it/s]"
     ]
    },
    {
     "name": "stdout",
     "output_type": "stream",
     "text": [
      "YU nan nan\n"
     ]
    },
    {
     "name": "stderr",
     "output_type": "stream",
     "text": [
      " 70%|██████████████████████████████████████████████████████████████████████████████████████████████████████████████                                               | 136040/194080 [01:07<00:27, 2111.35it/s]"
     ]
    },
    {
     "name": "stdout",
     "output_type": "stream",
     "text": [
      "FX nan nan\n"
     ]
    },
    {
     "name": "stderr",
     "output_type": "stream",
     "text": [
      " 71%|████████████████████████████████████████████████████████████████████████████████████████████████████████████████                                             | 138490/194080 [01:08<00:26, 2122.90it/s]"
     ]
    },
    {
     "name": "stdout",
     "output_type": "stream",
     "text": [
      "YU nan nan\n",
      "KY 03 nan\n"
     ]
    },
    {
     "name": "stderr",
     "output_type": "stream",
     "text": [
      " 73%|██████████████████████████████████████████████████████████████████████████████████████████████████████████████████▋                                          | 141786/194080 [01:10<00:25, 2065.21it/s]"
     ]
    },
    {
     "name": "stdout",
     "output_type": "stream",
     "text": [
      "YU nan nan\n"
     ]
    },
    {
     "name": "stderr",
     "output_type": "stream",
     "text": [
      " 75%|█████████████████████████████████████████████████████████████████████████████████████████████████████████████████████▊                                       | 145582/194080 [01:12<00:22, 2192.13it/s]"
     ]
    },
    {
     "name": "stdout",
     "output_type": "stream",
     "text": [
      "PS nan nan\n"
     ]
    },
    {
     "name": "stderr",
     "output_type": "stream",
     "text": [
      " 77%|████████████████████████████████████████████████████████████████████████████████████████████████████████████████████████▎                                    | 148727/194080 [01:13<00:20, 2170.54it/s]"
     ]
    },
    {
     "name": "stdout",
     "output_type": "stream",
     "text": [
      "AN nan nan\n"
     ]
    },
    {
     "name": "stderr",
     "output_type": "stream",
     "text": [
      " 78%|██████████████████████████████████████████████████████████████████████████████████████████████████████████████████████████▏                                  | 151090/194080 [01:14<00:18, 2303.88it/s]"
     ]
    },
    {
     "name": "stdout",
     "output_type": "stream",
     "text": [
      "FX nan nan\n",
      "FX nan nan\n",
      "YU nan nan\n"
     ]
    },
    {
     "name": "stderr",
     "output_type": "stream",
     "text": [
      " 78%|███████████████████████████████████████████████████████████████████████████████████████████████████████████████████████████▏                                 | 152272/194080 [01:15<00:17, 2358.53it/s]"
     ]
    },
    {
     "name": "stdout",
     "output_type": "stream",
     "text": [
      "DK 14 nan\n"
     ]
    },
    {
     "name": "stderr",
     "output_type": "stream",
     "text": [
      " 79%|████████████████████████████████████████████████████████████████████████████████████████████████████████████████████████████▌                                | 153907/194080 [01:16<00:18, 2147.13it/s]"
     ]
    },
    {
     "name": "stdout",
     "output_type": "stream",
     "text": [
      "FX nan nan\n"
     ]
    },
    {
     "name": "stderr",
     "output_type": "stream",
     "text": [
      " 80%|█████████████████████████████████████████████████████████████████████████████████████████████████████████████████████████████▌                               | 155278/194080 [01:16<00:17, 2220.99it/s]"
     ]
    },
    {
     "name": "stdout",
     "output_type": "stream",
     "text": [
      "YU nan nan\n",
      "PS nan nan\n"
     ]
    },
    {
     "name": "stderr",
     "output_type": "stream",
     "text": [
      " 81%|███████████████████████████████████████████████████████████████████████████████████████████████████████████████████████████████▊                             | 158059/194080 [01:17<00:15, 2309.61it/s]"
     ]
    },
    {
     "name": "stdout",
     "output_type": "stream",
     "text": [
      "YU nan nan\n"
     ]
    },
    {
     "name": "stderr",
     "output_type": "stream",
     "text": [
      " 82%|████████████████████████████████████████████████████████████████████████████████████████████████████████████████████████████████▉                            | 159436/194080 [01:18<00:15, 2238.24it/s]"
     ]
    },
    {
     "name": "stdout",
     "output_type": "stream",
     "text": [
      "PS nan nan\n",
      "PS nan nan\n"
     ]
    },
    {
     "name": "stderr",
     "output_type": "stream",
     "text": [
      " 83%|██████████████████████████████████████████████████████████████████████████████████████████████████████████████████████████████████▋                          | 161536/194080 [01:19<00:13, 2350.11it/s]"
     ]
    },
    {
     "name": "stdout",
     "output_type": "stream",
     "text": [
      "IS 19 nan\n",
      "FX nan nan\n"
     ]
    },
    {
     "name": "stderr",
     "output_type": "stream",
     "text": [
      " 83%|███████████████████████████████████████████████████████████████████████████████████████████████████████████████████████████████████                          | 162030/194080 [01:19<00:13, 2402.90it/s]"
     ]
    },
    {
     "name": "stdout",
     "output_type": "stream",
     "text": [
      "YU nan nan\n"
     ]
    },
    {
     "name": "stderr",
     "output_type": "stream",
     "text": [
      " 85%|█████████████████████████████████████████████████████████████████████████████████████████████████████████████████████████████████████▏                       | 164641/194080 [01:20<00:13, 2219.95it/s]"
     ]
    },
    {
     "name": "stdout",
     "output_type": "stream",
     "text": [
      "YU nan nan\n",
      "FX nan nan\n"
     ]
    },
    {
     "name": "stderr",
     "output_type": "stream",
     "text": [
      " 86%|██████████████████████████████████████████████████████████████████████████████████████████████████████████████████████████████████████▋                      | 166454/194080 [01:21<00:12, 2151.57it/s]"
     ]
    },
    {
     "name": "stdout",
     "output_type": "stream",
     "text": [
      "YU nan nan\n"
     ]
    },
    {
     "name": "stderr",
     "output_type": "stream",
     "text": [
      " 86%|███████████████████████████████████████████████████████████████████████████████████████████████████████████████████████████████████████▏                     | 167114/194080 [01:22<00:12, 2079.98it/s]"
     ]
    },
    {
     "name": "stdout",
     "output_type": "stream",
     "text": [
      "RU 35 nan\n"
     ]
    },
    {
     "name": "stderr",
     "output_type": "stream",
     "text": [
      " 86%|███████████████████████████████████████████████████████████████████████████████████████████████████████████████████████████████████████▋                     | 167800/194080 [01:22<00:11, 2210.53it/s]"
     ]
    },
    {
     "name": "stdout",
     "output_type": "stream",
     "text": [
      "FX nan nan\n",
      "FX nan nan\n",
      "PS nan nan\n"
     ]
    },
    {
     "name": "stderr",
     "output_type": "stream",
     "text": [
      " 87%|████████████████████████████████████████████████████████████████████████████████████████████████████████████████████████████████████████▍                    | 168709/194080 [01:22<00:11, 2168.68it/s]"
     ]
    },
    {
     "name": "stdout",
     "output_type": "stream",
     "text": [
      "ZR nan nan\n",
      "YU nan nan\n"
     ]
    },
    {
     "name": "stderr",
     "output_type": "stream",
     "text": [
      " 88%|█████████████████████████████████████████████████████████████████████████████████████████████████████████████████████████████████████████▊                   | 170350/194080 [01:23<00:10, 2341.42it/s]"
     ]
    },
    {
     "name": "stdout",
     "output_type": "stream",
     "text": [
      "YU nan nan\n",
      "YU nan nan\n"
     ]
    },
    {
     "name": "stderr",
     "output_type": "stream",
     "text": [
      " 88%|██████████████████████████████████████████████████████████████████████████████████████████████████████████████████████████████████████████▌                  | 171251/194080 [01:23<00:10, 2162.13it/s]"
     ]
    },
    {
     "name": "stdout",
     "output_type": "stream",
     "text": [
      "YU nan nan\n"
     ]
    },
    {
     "name": "stderr",
     "output_type": "stream",
     "text": [
      " 89%|███████████████████████████████████████████████████████████████████████████████████████████████████████████████████████████████████████████▊                 | 172865/194080 [01:24<00:09, 2327.03it/s]"
     ]
    },
    {
     "name": "stdout",
     "output_type": "stream",
     "text": [
      "YU nan nan\n"
     ]
    },
    {
     "name": "stderr",
     "output_type": "stream",
     "text": [
      " 90%|████████████████████████████████████████████████████████████████████████████████████████████████████████████████████████████████████████████▌                | 173787/194080 [01:24<00:08, 2285.68it/s]"
     ]
    },
    {
     "name": "stdout",
     "output_type": "stream",
     "text": [
      "FX nan nan\n",
      "FX nan nan\n"
     ]
    },
    {
     "name": "stderr",
     "output_type": "stream",
     "text": [
      " 90%|█████████████████████████████████████████████████████████████████████████████████████████████████████████████████████████████████████████████▎               | 174738/194080 [01:25<00:08, 2251.41it/s]"
     ]
    },
    {
     "name": "stdout",
     "output_type": "stream",
     "text": [
      "YU nan nan\n"
     ]
    },
    {
     "name": "stderr",
     "output_type": "stream",
     "text": [
      " 92%|████████████████████████████████████████████████████████████████████████████████████████████████████████████████████████████████████████████████▏            | 178258/194080 [01:26<00:07, 2253.40it/s]"
     ]
    },
    {
     "name": "stdout",
     "output_type": "stream",
     "text": [
      "PS nan nan\n",
      "PS nan nan\n"
     ]
    },
    {
     "name": "stderr",
     "output_type": "stream",
     "text": [
      " 92%|████████████████████████████████████████████████████████████████████████████████████████████████████████████████████████████████████████████████▊            | 178952/194080 [01:27<00:06, 2264.19it/s]"
     ]
    },
    {
     "name": "stdout",
     "output_type": "stream",
     "text": [
      "UG 12 nan\n"
     ]
    },
    {
     "name": "stderr",
     "output_type": "stream",
     "text": [
      " 93%|██████████████████████████████████████████████████████████████████████████████████████████████████████████████████████████████████████████████████▋          | 181291/194080 [01:28<00:05, 2294.34it/s]"
     ]
    },
    {
     "name": "stdout",
     "output_type": "stream",
     "text": [
      "YU nan nan\n",
      "YU nan nan\n"
     ]
    },
    {
     "name": "stderr",
     "output_type": "stream",
     "text": [
      " 94%|███████████████████████████████████████████████████████████████████████████████████████████████████████████████████████████████████████████████████▏         | 182007/194080 [01:28<00:05, 2258.55it/s]"
     ]
    },
    {
     "name": "stdout",
     "output_type": "stream",
     "text": [
      "PS nan nan\n"
     ]
    },
    {
     "name": "stderr",
     "output_type": "stream",
     "text": [
      " 96%|██████████████████████████████████████████████████████████████████████████████████████████████████████████████████████████████████████████████████████▋      | 186223/194080 [01:30<00:04, 1589.96it/s]"
     ]
    },
    {
     "name": "stdout",
     "output_type": "stream",
     "text": [
      "PS nan nan\n"
     ]
    },
    {
     "name": "stderr",
     "output_type": "stream",
     "text": [
      " 96%|███████████████████████████████████████████████████████████████████████████████████████████████████████████████████████████████████████████████████████▏     | 186902/194080 [01:31<00:03, 1985.09it/s]"
     ]
    },
    {
     "name": "stdout",
     "output_type": "stream",
     "text": [
      "FX nan nan\n"
     ]
    },
    {
     "name": "stderr",
     "output_type": "stream",
     "text": [
      " 97%|████████████████████████████████████████████████████████████████████████████████████████████████████████████████████████████████████████████████████████▌    | 188604/194080 [01:31<00:02, 2351.71it/s]"
     ]
    },
    {
     "name": "stdout",
     "output_type": "stream",
     "text": [
      "DK 14 nan\n"
     ]
    },
    {
     "name": "stderr",
     "output_type": "stream",
     "text": [
      " 98%|█████████████████████████████████████████████████████████████████████████████████████████████████████████████████████████████████████████████████████████▏   | 189344/194080 [01:32<00:02, 2340.98it/s]"
     ]
    },
    {
     "name": "stdout",
     "output_type": "stream",
     "text": [
      "YU nan nan\n"
     ]
    },
    {
     "name": "stderr",
     "output_type": "stream",
     "text": [
      " 99%|███████████████████████████████████████████████████████████████████████████████████████████████████████████████████████████████████████████████████████████  | 191628/194080 [01:33<00:00, 2455.42it/s]"
     ]
    },
    {
     "name": "stdout",
     "output_type": "stream",
     "text": [
      "PS nan nan\n"
     ]
    },
    {
     "name": "stderr",
     "output_type": "stream",
     "text": [
      " 99%|███████████████████████████████████████████████████████████████████████████████████████████████████████████████████████████████████████████████████████████▊ | 192630/194080 [01:33<00:00, 2473.75it/s]"
     ]
    },
    {
     "name": "stdout",
     "output_type": "stream",
     "text": [
      "PS nan nan\n"
     ]
    },
    {
     "name": "stderr",
     "output_type": "stream",
     "text": [
      "100%|█████████████████████████████████████████████████████████████████████████████████████████████████████████████████████████████████████████████████████████████| 194080/194080 [02:00<00:00, 1608.49it/s]\n"
     ]
    }
   ],
   "source": [
    "populated_df = loc_df.progress_apply(lambda row: populate_lat_lng(row), axis=1)"
   ]
  },
  {
   "cell_type": "code",
   "execution_count": 48,
   "id": "7ce9e743",
   "metadata": {},
   "outputs": [
    {
     "data": {
      "text/html": [
       "<div>\n",
       "<style scoped>\n",
       "    .dataframe tbody tr th:only-of-type {\n",
       "        vertical-align: middle;\n",
       "    }\n",
       "\n",
       "    .dataframe tbody tr th {\n",
       "        vertical-align: top;\n",
       "    }\n",
       "\n",
       "    .dataframe thead th {\n",
       "        text-align: right;\n",
       "    }\n",
       "</style>\n",
       "<table border=\"1\" class=\"dataframe\">\n",
       "  <thead>\n",
       "    <tr style=\"text-align: right;\">\n",
       "      <th></th>\n",
       "      <th>lat</th>\n",
       "      <th>lng</th>\n",
       "      <th>loccityid</th>\n",
       "      <th>loccountrycode</th>\n",
       "      <th>locstatecode</th>\n",
       "      <th>steamid</th>\n",
       "    </tr>\n",
       "  </thead>\n",
       "  <tbody>\n",
       "    <tr>\n",
       "      <th>0</th>\n",
       "      <td>36.778261</td>\n",
       "      <td>-119.417932</td>\n",
       "      <td>NaN</td>\n",
       "      <td>US</td>\n",
       "      <td>CA</td>\n",
       "      <td>76561197960275421</td>\n",
       "    </tr>\n",
       "    <tr>\n",
       "      <th>1</th>\n",
       "      <td>31.968599</td>\n",
       "      <td>-99.901813</td>\n",
       "      <td>NaN</td>\n",
       "      <td>US</td>\n",
       "      <td>TX</td>\n",
       "      <td>76561197960265742</td>\n",
       "    </tr>\n",
       "    <tr>\n",
       "      <th>2</th>\n",
       "      <td>-40.900557</td>\n",
       "      <td>174.885971</td>\n",
       "      <td>NaN</td>\n",
       "      <td>NZ</td>\n",
       "      <td>NaN</td>\n",
       "      <td>76561197960278651</td>\n",
       "    </tr>\n",
       "    <tr>\n",
       "      <th>3</th>\n",
       "      <td>-30.000232</td>\n",
       "      <td>136.209155</td>\n",
       "      <td>NaN</td>\n",
       "      <td>AU</td>\n",
       "      <td>SA</td>\n",
       "      <td>76561197960274362</td>\n",
       "    </tr>\n",
       "    <tr>\n",
       "      <th>4</th>\n",
       "      <td>NaN</td>\n",
       "      <td>NaN</td>\n",
       "      <td>NaN</td>\n",
       "      <td>NaN</td>\n",
       "      <td>NaN</td>\n",
       "      <td>76561197960271234</td>\n",
       "    </tr>\n",
       "    <tr>\n",
       "      <th>...</th>\n",
       "      <td>...</td>\n",
       "      <td>...</td>\n",
       "      <td>...</td>\n",
       "      <td>...</td>\n",
       "      <td>...</td>\n",
       "      <td>...</td>\n",
       "    </tr>\n",
       "    <tr>\n",
       "      <th>194075</th>\n",
       "      <td>NaN</td>\n",
       "      <td>NaN</td>\n",
       "      <td>NaN</td>\n",
       "      <td>NaN</td>\n",
       "      <td>NaN</td>\n",
       "      <td>76561198106668381</td>\n",
       "    </tr>\n",
       "    <tr>\n",
       "      <th>194076</th>\n",
       "      <td>21.958828</td>\n",
       "      <td>96.089103</td>\n",
       "      <td>NaN</td>\n",
       "      <td>MM</td>\n",
       "      <td>08</td>\n",
       "      <td>76561198107003022</td>\n",
       "    </tr>\n",
       "    <tr>\n",
       "      <th>194077</th>\n",
       "      <td>60.128161</td>\n",
       "      <td>18.643501</td>\n",
       "      <td>NaN</td>\n",
       "      <td>SE</td>\n",
       "      <td>NaN</td>\n",
       "      <td>76561198105625487</td>\n",
       "    </tr>\n",
       "    <tr>\n",
       "      <th>194078</th>\n",
       "      <td>NaN</td>\n",
       "      <td>NaN</td>\n",
       "      <td>NaN</td>\n",
       "      <td>NaN</td>\n",
       "      <td>NaN</td>\n",
       "      <td>76561198107937383</td>\n",
       "    </tr>\n",
       "    <tr>\n",
       "      <th>194079</th>\n",
       "      <td>39.933363</td>\n",
       "      <td>32.859742</td>\n",
       "      <td>NaN</td>\n",
       "      <td>TR</td>\n",
       "      <td>68</td>\n",
       "      <td>76561198106501341</td>\n",
       "    </tr>\n",
       "  </tbody>\n",
       "</table>\n",
       "<p>194080 rows × 6 columns</p>\n",
       "</div>"
      ],
      "text/plain": [
       "              lat         lng  loccityid loccountrycode locstatecode  \\\n",
       "0       36.778261 -119.417932        NaN             US           CA   \n",
       "1       31.968599  -99.901813        NaN             US           TX   \n",
       "2      -40.900557  174.885971        NaN             NZ          NaN   \n",
       "3      -30.000232  136.209155        NaN             AU           SA   \n",
       "4             NaN         NaN        NaN            NaN          NaN   \n",
       "...           ...         ...        ...            ...          ...   \n",
       "194075        NaN         NaN        NaN            NaN          NaN   \n",
       "194076  21.958828   96.089103        NaN             MM           08   \n",
       "194077  60.128161   18.643501        NaN             SE          NaN   \n",
       "194078        NaN         NaN        NaN            NaN          NaN   \n",
       "194079  39.933363   32.859742        NaN             TR           68   \n",
       "\n",
       "                  steamid  \n",
       "0       76561197960275421  \n",
       "1       76561197960265742  \n",
       "2       76561197960278651  \n",
       "3       76561197960274362  \n",
       "4       76561197960271234  \n",
       "...                   ...  \n",
       "194075  76561198106668381  \n",
       "194076  76561198107003022  \n",
       "194077  76561198105625487  \n",
       "194078  76561198107937383  \n",
       "194079  76561198106501341  \n",
       "\n",
       "[194080 rows x 6 columns]"
      ]
     },
     "execution_count": 48,
     "metadata": {},
     "output_type": "execute_result"
    }
   ],
   "source": [
    "populated_df"
   ]
  },
  {
   "cell_type": "code",
   "execution_count": 77,
   "id": "44a89b08",
   "metadata": {},
   "outputs": [],
   "source": [
    "populated_df = populated_df.loc[:, ['lat', 'lng', 'loccountrycode','steamid']].dropna()"
   ]
  },
  {
   "cell_type": "code",
   "execution_count": 78,
   "id": "851e10a0",
   "metadata": {},
   "outputs": [],
   "source": [
    "distribution_by_country = populated_df['loccountrycode'].value_counts() * 100 / populated_df['loccountrycode'].value_counts().sum()  "
   ]
  },
  {
   "cell_type": "code",
   "execution_count": 79,
   "id": "8f8e9b2f",
   "metadata": {},
   "outputs": [],
   "source": [
    "distribution_by_country = distribution_by_country.reset_index()\n",
    "distribution_by_country.columns = [\"loccountrycode\", \"percent\"]\n"
   ]
  },
  {
   "cell_type": "code",
   "execution_count": 80,
   "id": "3d343788",
   "metadata": {},
   "outputs": [
    {
     "data": {
      "text/html": [
       "<div>\n",
       "<style scoped>\n",
       "    .dataframe tbody tr th:only-of-type {\n",
       "        vertical-align: middle;\n",
       "    }\n",
       "\n",
       "    .dataframe tbody tr th {\n",
       "        vertical-align: top;\n",
       "    }\n",
       "\n",
       "    .dataframe thead th {\n",
       "        text-align: right;\n",
       "    }\n",
       "</style>\n",
       "<table border=\"1\" class=\"dataframe\">\n",
       "  <thead>\n",
       "    <tr style=\"text-align: right;\">\n",
       "      <th></th>\n",
       "      <th>loccountrycode</th>\n",
       "      <th>percent</th>\n",
       "    </tr>\n",
       "  </thead>\n",
       "  <tbody>\n",
       "    <tr>\n",
       "      <th>0</th>\n",
       "      <td>US</td>\n",
       "      <td>19.596572</td>\n",
       "    </tr>\n",
       "    <tr>\n",
       "      <th>1</th>\n",
       "      <td>RU</td>\n",
       "      <td>8.001769</td>\n",
       "    </tr>\n",
       "    <tr>\n",
       "      <th>2</th>\n",
       "      <td>DE</td>\n",
       "      <td>7.481489</td>\n",
       "    </tr>\n",
       "    <tr>\n",
       "      <th>3</th>\n",
       "      <td>BR</td>\n",
       "      <td>5.176453</td>\n",
       "    </tr>\n",
       "    <tr>\n",
       "      <th>4</th>\n",
       "      <td>GB</td>\n",
       "      <td>4.603487</td>\n",
       "    </tr>\n",
       "    <tr>\n",
       "      <th>...</th>\n",
       "      <td>...</td>\n",
       "      <td>...</td>\n",
       "    </tr>\n",
       "    <tr>\n",
       "      <th>243</th>\n",
       "      <td>BL</td>\n",
       "      <td>0.000941</td>\n",
       "    </tr>\n",
       "    <tr>\n",
       "      <th>244</th>\n",
       "      <td>JE</td>\n",
       "      <td>0.000941</td>\n",
       "    </tr>\n",
       "    <tr>\n",
       "      <th>245</th>\n",
       "      <td>GQ</td>\n",
       "      <td>0.000941</td>\n",
       "    </tr>\n",
       "    <tr>\n",
       "      <th>246</th>\n",
       "      <td>ST</td>\n",
       "      <td>0.000941</td>\n",
       "    </tr>\n",
       "    <tr>\n",
       "      <th>247</th>\n",
       "      <td>SR</td>\n",
       "      <td>0.000941</td>\n",
       "    </tr>\n",
       "  </tbody>\n",
       "</table>\n",
       "<p>248 rows × 2 columns</p>\n",
       "</div>"
      ],
      "text/plain": [
       "    loccountrycode    percent\n",
       "0               US  19.596572\n",
       "1               RU   8.001769\n",
       "2               DE   7.481489\n",
       "3               BR   5.176453\n",
       "4               GB   4.603487\n",
       "..             ...        ...\n",
       "243             BL   0.000941\n",
       "244             JE   0.000941\n",
       "245             GQ   0.000941\n",
       "246             ST   0.000941\n",
       "247             SR   0.000941\n",
       "\n",
       "[248 rows x 2 columns]"
      ]
     },
     "execution_count": 80,
     "metadata": {},
     "output_type": "execute_result"
    }
   ],
   "source": [
    "distribution_by_country"
   ]
  },
  {
   "cell_type": "code",
   "execution_count": 81,
   "id": "ec35a5d3",
   "metadata": {},
   "outputs": [
    {
     "data": {
      "text/html": [
       "<div>\n",
       "<style scoped>\n",
       "    .dataframe tbody tr th:only-of-type {\n",
       "        vertical-align: middle;\n",
       "    }\n",
       "\n",
       "    .dataframe tbody tr th {\n",
       "        vertical-align: top;\n",
       "    }\n",
       "\n",
       "    .dataframe thead th {\n",
       "        text-align: right;\n",
       "    }\n",
       "</style>\n",
       "<table border=\"1\" class=\"dataframe\">\n",
       "  <thead>\n",
       "    <tr style=\"text-align: right;\">\n",
       "      <th></th>\n",
       "      <th>lat</th>\n",
       "      <th>lon</th>\n",
       "      <th>country</th>\n",
       "      <th>steamid</th>\n",
       "      <th>percentage_players</th>\n",
       "    </tr>\n",
       "  </thead>\n",
       "  <tbody>\n",
       "    <tr>\n",
       "      <th>0</th>\n",
       "      <td>36.778261</td>\n",
       "      <td>-119.417932</td>\n",
       "      <td>US</td>\n",
       "      <td>76561197960275421</td>\n",
       "      <td>19.596572</td>\n",
       "    </tr>\n",
       "    <tr>\n",
       "      <th>1</th>\n",
       "      <td>31.968599</td>\n",
       "      <td>-99.901813</td>\n",
       "      <td>US</td>\n",
       "      <td>76561197960265742</td>\n",
       "      <td>19.596572</td>\n",
       "    </tr>\n",
       "    <tr>\n",
       "      <th>2</th>\n",
       "      <td>-40.900557</td>\n",
       "      <td>174.885971</td>\n",
       "      <td>NZ</td>\n",
       "      <td>76561197960278651</td>\n",
       "      <td>0.467593</td>\n",
       "    </tr>\n",
       "    <tr>\n",
       "      <th>3</th>\n",
       "      <td>-30.000232</td>\n",
       "      <td>136.209155</td>\n",
       "      <td>AU</td>\n",
       "      <td>76561197960274362</td>\n",
       "      <td>3.225169</td>\n",
       "    </tr>\n",
       "    <tr>\n",
       "      <th>4</th>\n",
       "      <td>41.878114</td>\n",
       "      <td>-87.629798</td>\n",
       "      <td>US</td>\n",
       "      <td>76561197960269062</td>\n",
       "      <td>19.596572</td>\n",
       "    </tr>\n",
       "    <tr>\n",
       "      <th>...</th>\n",
       "      <td>...</td>\n",
       "      <td>...</td>\n",
       "      <td>...</td>\n",
       "      <td>...</td>\n",
       "      <td>...</td>\n",
       "    </tr>\n",
       "    <tr>\n",
       "      <th>106284</th>\n",
       "      <td>14.599512</td>\n",
       "      <td>120.984219</td>\n",
       "      <td>PH</td>\n",
       "      <td>76561198105273994</td>\n",
       "      <td>0.556972</td>\n",
       "    </tr>\n",
       "    <tr>\n",
       "      <th>106285</th>\n",
       "      <td>-7.109535</td>\n",
       "      <td>177.649330</td>\n",
       "      <td>TV</td>\n",
       "      <td>76561198105442357</td>\n",
       "      <td>0.013172</td>\n",
       "    </tr>\n",
       "    <tr>\n",
       "      <th>106286</th>\n",
       "      <td>21.958828</td>\n",
       "      <td>96.089103</td>\n",
       "      <td>MM</td>\n",
       "      <td>76561198107003022</td>\n",
       "      <td>0.027284</td>\n",
       "    </tr>\n",
       "    <tr>\n",
       "      <th>106287</th>\n",
       "      <td>60.128161</td>\n",
       "      <td>18.643501</td>\n",
       "      <td>SE</td>\n",
       "      <td>76561198105625487</td>\n",
       "      <td>3.252453</td>\n",
       "    </tr>\n",
       "    <tr>\n",
       "      <th>106288</th>\n",
       "      <td>39.933363</td>\n",
       "      <td>32.859742</td>\n",
       "      <td>TR</td>\n",
       "      <td>76561198106501341</td>\n",
       "      <td>0.696215</td>\n",
       "    </tr>\n",
       "  </tbody>\n",
       "</table>\n",
       "<p>106289 rows × 5 columns</p>\n",
       "</div>"
      ],
      "text/plain": [
       "              lat         lon country            steamid  percentage_players\n",
       "0       36.778261 -119.417932      US  76561197960275421           19.596572\n",
       "1       31.968599  -99.901813      US  76561197960265742           19.596572\n",
       "2      -40.900557  174.885971      NZ  76561197960278651            0.467593\n",
       "3      -30.000232  136.209155      AU  76561197960274362            3.225169\n",
       "4       41.878114  -87.629798      US  76561197960269062           19.596572\n",
       "...           ...         ...     ...                ...                 ...\n",
       "106284  14.599512  120.984219      PH  76561198105273994            0.556972\n",
       "106285  -7.109535  177.649330      TV  76561198105442357            0.013172\n",
       "106286  21.958828   96.089103      MM  76561198107003022            0.027284\n",
       "106287  60.128161   18.643501      SE  76561198105625487            3.252453\n",
       "106288  39.933363   32.859742      TR  76561198106501341            0.696215\n",
       "\n",
       "[106289 rows x 5 columns]"
      ]
     },
     "execution_count": 81,
     "metadata": {},
     "output_type": "execute_result"
    }
   ],
   "source": [
    "populated_df = populated_df.merge(distribution_by_country, on=\"loccountrycode\", how=\"left\")\n",
    "populated_df.columns=[\"lat\", \"lon\", \"country\", \"steamid\", \"percentage_players\"]\n",
    "populated_df"
   ]
  },
  {
   "cell_type": "code",
   "execution_count": 82,
   "id": "6d26096e",
   "metadata": {},
   "outputs": [],
   "source": [
    "populated_df.to_csv(\"../steam-data/loc_lat_lng_data_100kUsers.csv\")"
   ]
  },
  {
   "cell_type": "code",
   "execution_count": null,
   "id": "ea1f40ea",
   "metadata": {},
   "outputs": [],
   "source": []
  }
 ],
 "metadata": {
  "kernelspec": {
   "display_name": "Python 3 (ipykernel)",
   "language": "python",
   "name": "python3"
  },
  "language_info": {
   "codemirror_mode": {
    "name": "ipython",
    "version": 3
   },
   "file_extension": ".py",
   "mimetype": "text/x-python",
   "name": "python",
   "nbconvert_exporter": "python",
   "pygments_lexer": "ipython3",
   "version": "3.7.11"
  }
 },
 "nbformat": 4,
 "nbformat_minor": 5
}
